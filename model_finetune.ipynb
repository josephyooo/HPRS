{
 "cells": [
  {
   "cell_type": "code",
   "execution_count": null,
   "metadata": {},
   "outputs": [],
   "source": [
    "import torch\n",
    "\n",
    "from utils import transfer_learn\n",
    "from data_prep import DermNet\n",
    "\n",
    "torch.manual_seed(0)"
   ]
  },
  {
   "cell_type": "markdown",
   "metadata": {},
   "source": [
    "### Finetune GoogLeNet"
   ]
  },
  {
   "cell_type": "code",
   "execution_count": null,
   "metadata": {},
   "outputs": [],
   "source": [
    "from torchvision.models import GoogLeNet_Weights\n",
    "\n",
    "from models import GoogLeNet_Scalp\n",
    "\n",
    "dataset = DermNet(transform=GoogLeNet_Weights.DEFAULT.transforms())\n",
    "transfer_learn(GoogLeNet_Scalp, dataset)"
   ]
  },
  {
   "cell_type": "markdown",
   "metadata": {},
   "source": [
    "### Finetune AlexNet"
   ]
  },
  {
   "cell_type": "code",
   "execution_count": null,
   "metadata": {},
   "outputs": [],
   "source": [
    "from torchvision.models import AlexNet_Weights\n",
    "\n",
    "from models import AlexNet_Scalp\n",
    "\n",
    "dataset = DermNet(transform=AlexNet_Weights.DEFAULT.transforms())\n",
    "transfer_learn(AlexNet_Scalp, dataset)"
   ]
  },
  {
   "cell_type": "markdown",
   "metadata": {},
   "source": [
    "### Finetune ResNeXt50"
   ]
  },
  {
   "cell_type": "code",
   "execution_count": null,
   "metadata": {},
   "outputs": [],
   "source": [
    "from torchvision.models import ResNeXt50_32X4D_Weights\n",
    "\n",
    "from models import ResNeXt_Scalp\n",
    "\n",
    "dataset = DermNet(transform=ResNeXt50_32X4D_Weights.DEFAULT.transforms())\n",
    "transfer_learn(ResNeXt_Scalp, dataset)"
   ]
  }
 ],
 "metadata": {
  "kernelspec": {
   "display_name": "hair-deisease-cnn-project-sPLV6DJP-py3.10",
   "language": "python",
   "name": "python3"
  },
  "language_info": {
   "codemirror_mode": {
    "name": "ipython",
    "version": 3
   },
   "file_extension": ".py",
   "mimetype": "text/x-python",
   "name": "python",
   "nbconvert_exporter": "python",
   "pygments_lexer": "ipython3",
   "version": "3.10.10"
  }
 },
 "nbformat": 4,
 "nbformat_minor": 2
}
